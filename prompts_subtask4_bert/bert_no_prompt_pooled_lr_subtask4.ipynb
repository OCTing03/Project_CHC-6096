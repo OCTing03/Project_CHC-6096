{
 "cells": [
  {
   "cell_type": "markdown",
   "metadata": {
    "id": "xf3lVTZYhbzA"
   },
   "source": [
    "# Initial Setups"
   ]
  },
  {
   "cell_type": "markdown",
   "metadata": {
    "id": "2ORFXeezn5Og"
   },
   "source": [
    "## (Google Colab use only)"
   ]
  },
  {
   "cell_type": "code",
   "execution_count": 1,
   "metadata": {
    "colab": {
     "base_uri": "https://localhost:8080/"
    },
    "executionInfo": {
     "elapsed": 3570,
     "status": "ok",
     "timestamp": 1620418927808,
     "user": {
      "displayName": "Ronald Seoh",
      "photoUrl": "",
      "userId": "10284188050297676522"
     },
     "user_tz": 240
    },
    "id": "YFAQ6IgXn8FK",
    "outputId": "25f6ccd2-93f3-4714-9551-e47ee5916705"
   },
   "outputs": [],
   "source": [
    "# Use Google Colab\n",
    "use_colab = False\n",
    "\n",
    "# Is this notebook running on Colab?\n",
    "# If so, then google.colab package (github.com/googlecolab/colabtools)\n",
    "# should be available in this environment\n",
    "\n",
    "# Previous version used importlib, but we could do the same thing with\n",
    "# just attempting to import google.colab\n",
    "try:\n",
    "    from google.colab import drive\n",
    "    colab_available = True\n",
    "except:\n",
    "    colab_available = False\n",
    "\n",
    "if use_colab and colab_available:\n",
    "    drive.mount('/content/drive')\n",
    "\n",
    "    # cd to the appropriate working directory under my Google Drive\n",
    "    %cd '/content/drive/My Drive/cs696ds_lexalytics/Ronald Gypsum Prompts'\n",
    "    \n",
    "    # Install packages specified in requirements\n",
    "    !pip install -r requirements.txt\n",
    "\n",
    "    %cd 'prompts_subtask4'\n",
    "    \n",
    "    # List the directory contents\n",
    "    !ls"
   ]
  },
  {
   "cell_type": "markdown",
   "metadata": {
    "id": "tgzsHF7Zhbzo"
   },
   "source": [
    "## Experiment parameters"
   ]
  },
  {
   "cell_type": "code",
   "execution_count": 2,
   "metadata": {
    "id": "DUpGBmOJhbzs",
    "tags": [
     "parameters"
    ]
   },
   "outputs": [],
   "source": [
    "# We will use the following string ID to identify this particular (training) experiments\n",
    "# in directory paths and other settings\n",
    "experiment_id = 'bert_no_prompt_cls_lr_atsc_laptops_bert-base-uncased'\n",
    "\n",
    "# Random seed\n",
    "random_seed = 696\n",
    "\n",
    "# path to pretrained MLM model folder or the string \"bert-base-uncased\"\n",
    "lm_model_path = 'bert-base-uncased'\n",
    "\n",
    "# Test settings\n",
    "testing_batch_size = 32\n",
    "testing_domain = 'restaurants' # 'laptops', 'restaurants', 'joint'"
   ]
  },
  {
   "cell_type": "code",
   "execution_count": 3,
   "metadata": {
    "colab": {
     "base_uri": "https://localhost:8080/"
    },
    "executionInfo": {
     "elapsed": 3546,
     "status": "ok",
     "timestamp": 1620418927824,
     "user": {
      "displayName": "Ronald Seoh",
      "photoUrl": "",
      "userId": "10284188050297676522"
     },
     "user_tz": 240
    },
    "id": "keCSh__SY36i",
    "outputId": "7d83760a-ac16-481c-c9e4-6633f493b37d"
   },
   "outputs": [
    {
     "name": "stdout",
     "output_type": "stream",
     "text": [
      "Experiment ID: bert_no_prompt_cls_lr_atsc_laptops_bert-base-uncased\n"
     ]
    }
   ],
   "source": [
    "print(\"Experiment ID:\", experiment_id)"
   ]
  },
  {
   "cell_type": "markdown",
   "metadata": {
    "id": "GYZesqTioMvF"
   },
   "source": [
    "## Package imports"
   ]
  },
  {
   "cell_type": "code",
   "execution_count": 4,
   "metadata": {
    "colab": {
     "base_uri": "https://localhost:8080/"
    },
    "executionInfo": {
     "elapsed": 5595,
     "status": "ok",
     "timestamp": 1620418929888,
     "user": {
      "displayName": "Ronald Seoh",
      "photoUrl": "",
      "userId": "10284188050297676522"
     },
     "user_tz": 240
    },
    "id": "MlK_-DrWhbzb",
    "outputId": "5854fa11-ce1f-49a2-a493-6d6b1fb92423"
   },
   "outputs": [
    {
     "name": "stdout",
     "output_type": "stream",
     "text": [
      "Python version: 3.8.10 (default, Jun  4 2021, 15:09:15) \n",
      "[GCC 7.5.0]\n",
      "NumPy version: 1.21.2\n",
      "PyTorch version: 1.7.0+cu110\n",
      "Transformers version: 4.3.3\n"
     ]
    }
   ],
   "source": [
    "import sys\n",
    "import os\n",
    "import random\n",
    "import shutil\n",
    "import copy\n",
    "import inspect\n",
    "import json\n",
    "\n",
    "import numpy as np\n",
    "import torch\n",
    "import transformers\n",
    "import datasets\n",
    "import sklearn.metrics\n",
    "import pandas as pd\n",
    "import matplotlib.pyplot as plt\n",
    "import seaborn as sn\n",
    "import tqdm\n",
    "\n",
    "current_dir = os.path.dirname(os.path.abspath(inspect.getfile(inspect.currentframe())))\n",
    "parent_dir = os.path.dirname(current_dir)\n",
    "sys.path.append(parent_dir)\n",
    "\n",
    "import utils\n",
    "\n",
    "# Random seed settings\n",
    "random.seed(random_seed)\n",
    "np.random.seed(random_seed)\n",
    "\n",
    "# cuBLAS reproducibility\n",
    "# https://docs.nvidia.com/cuda/cublas/index.html#cublasApi_reproducibility\n",
    "# os.environ['CUBLAS_WORKSPACE_CONFIG'] = \":4096:8\"\n",
    "# torch.set_deterministic(True)\n",
    "torch.manual_seed(random_seed)\n",
    "\n",
    "# Print version information\n",
    "print(\"Python version: \" + sys.version)\n",
    "print(\"NumPy version: \" + np.__version__)\n",
    "print(\"PyTorch version: \" + torch.__version__)\n",
    "print(\"Transformers version: \" + transformers.__version__)"
   ]
  },
  {
   "cell_type": "markdown",
   "metadata": {
    "id": "UWuR30eUoTWP"
   },
   "source": [
    "## PyTorch GPU settings"
   ]
  },
  {
   "cell_type": "code",
   "execution_count": 5,
   "metadata": {
    "colab": {
     "base_uri": "https://localhost:8080/"
    },
    "executionInfo": {
     "elapsed": 5585,
     "status": "ok",
     "timestamp": 1620418929892,
     "user": {
      "displayName": "Ronald Seoh",
      "photoUrl": "",
      "userId": "10284188050297676522"
     },
     "user_tz": 240
    },
    "id": "PfNlm-ykoSlM",
    "outputId": "9b7cc30c-e6ae-404d-ce4f-b2afbdbec29d"
   },
   "outputs": [
    {
     "name": "stdout",
     "output_type": "stream",
     "text": [
      "CUDA Version: 11.0\n",
      "cuDNN Version: 8004\n",
      "CUDA Device Name: NVIDIA GeForce RTX 4090 D\n",
      "CUDA Capabilities: (8, 9)\n",
      "Number of CUDA devices: 1\n",
      "\n",
      "PyTorch device selected: cuda\n"
     ]
    }
   ],
   "source": [
    "if torch.cuda.is_available():    \n",
    "    torch_device = torch.device('cuda')\n",
    "\n",
    "    # Set this to True to make your output immediately reproducible\n",
    "    # Note: https://pytorch.org/docs/stable/notes/randomness.html\n",
    "    torch.backends.cudnn.deterministic = True\n",
    "    \n",
    "    # Disable 'benchmark' mode: Set this False if you want to measure running times more fairly\n",
    "    # Note: https://discuss.pytorch.org/t/what-does-torch-backends-cudnn-benchmark-do/5936\n",
    "    torch.backends.cudnn.benchmark = False\n",
    "    \n",
    "    # Faster Host to GPU copies with page-locked memory\n",
    "    use_pin_memory = True\n",
    "    \n",
    "    # Number of compute devices to be used for training\n",
    "    training_device_count = torch.cuda.device_count()\n",
    "\n",
    "    # CUDA libraries version information\n",
    "    print(\"CUDA Version: \" + str(torch.version.cuda))\n",
    "    print(\"cuDNN Version: \" + str(torch.backends.cudnn.version()))\n",
    "    print(\"CUDA Device Name: \" + str(torch.cuda.get_device_name()))\n",
    "    print(\"CUDA Capabilities: \"+ str(torch.cuda.get_device_capability()))\n",
    "    print(\"Number of CUDA devices: \"+ str(training_device_count))\n",
    "    \n",
    "else:\n",
    "    torch_device = torch.device('cpu')\n",
    "    use_pin_memory = False\n",
    "    \n",
    "    # Number of compute devices to be used for training\n",
    "    training_device_count = 1\n",
    "\n",
    "print()\n",
    "print(\"PyTorch device selected:\", torch_device)"
   ]
  },
  {
   "cell_type": "markdown",
   "metadata": {
    "id": "ayX5VRLfocFk"
   },
   "source": [
    "# Prepare Datasets for Prompt-based Classifier"
   ]
  },
  {
   "cell_type": "markdown",
   "metadata": {
    "id": "U9LAAJP-hbz7"
   },
   "source": [
    "## Load the SemEval dataset"
   ]
  },
  {
   "cell_type": "code",
   "execution_count": 6,
   "metadata": {
    "colab": {
     "base_uri": "https://localhost:8080/"
    },
    "executionInfo": {
     "elapsed": 5575,
     "status": "ok",
     "timestamp": 1620418929895,
     "user": {
      "displayName": "Ronald Seoh",
      "photoUrl": "",
      "userId": "10284188050297676522"
     },
     "user_tz": 240
    },
    "id": "gpL2uHPUhbz9",
    "outputId": "41504d48-f3c5-4361-a055-e24d3046f9c8"
   },
   "outputs": [
    {
     "name": "stderr",
     "output_type": "stream",
     "text": [
      "Reusing dataset sem_eval2014_task4_dataset (../dataset_cache/sem_eval2014_task4_dataset/SemEval2014Task4Dataset - Subtask 4/0.0.1/537edd3b5fdbdb1f3190419cf0a53a4fab3537bc666f17c8c75fa8d0b554e529)\n"
     ]
    }
   ],
   "source": [
    "# Load semeval for both domains\n",
    "restaurants_dataset = datasets.load_dataset(\n",
    "    os.path.abspath('../dataset_scripts/semeval2014_task4/semeval2014_task4.py'),\n",
    "    name=\"SemEval2014Task4Dataset - Subtask 4\",\n",
    "    data_files={\n",
    "        'test': '../dataset_files/semeval_2014/Restaurants_Test_Gold.xml',\n",
    "        'train': '../dataset_files/semeval_2014/Restaurants_Train_v2.xml',\n",
    "    },\n",
    "    cache_dir='../dataset_cache')"
   ]
  },
  {
   "cell_type": "code",
   "execution_count": 7,
   "metadata": {
    "id": "Gi5m8AbPj1iJ"
   },
   "outputs": [],
   "source": [
    "# The dataset chosen for testing\n",
    "if testing_domain == 'restaurants':\n",
    "    test_set = restaurants_dataset['test']"
   ]
  },
  {
   "cell_type": "code",
   "execution_count": 8,
   "metadata": {
    "colab": {
     "base_uri": "https://localhost:8080/"
    },
    "executionInfo": {
     "elapsed": 5557,
     "status": "ok",
     "timestamp": 1620418929901,
     "user": {
      "displayName": "Ronald Seoh",
      "photoUrl": "",
      "userId": "10284188050297676522"
     },
     "user_tz": 240
    },
    "id": "Est9ao9rcH4l",
    "outputId": "8487f46b-593a-43f6-b98c-eb559af8d169"
   },
   "outputs": [
    {
     "name": "stdout",
     "output_type": "stream",
     "text": [
      "973\n"
     ]
    }
   ],
   "source": [
    "print(len(test_set))"
   ]
  },
  {
   "cell_type": "code",
   "execution_count": 9,
   "metadata": {
    "colab": {
     "base_uri": "https://localhost:8080/"
    },
    "executionInfo": {
     "elapsed": 5547,
     "status": "ok",
     "timestamp": 1620418929903,
     "user": {
      "displayName": "Ronald Seoh",
      "photoUrl": "",
      "userId": "10284188050297676522"
     },
     "user_tz": 240
    },
    "id": "_npZeCIqcKjT",
    "outputId": "8951acb2-32ca-4e07-e1cf-011aa6831a69"
   },
   "outputs": [
    {
     "name": "stdout",
     "output_type": "stream",
     "text": [
      "{'aspect': 'ambience', 'sentiment': 0, 'text': 'Certainly not the best sushi in New York, however, it is always fresh, and the place is very clean, sterile.'}\n"
     ]
    }
   ],
   "source": [
    "print(test_set[4])"
   ]
  },
  {
   "cell_type": "markdown",
   "metadata": {
    "id": "6TOMmAtIvoZ_"
   },
   "source": [
    "# Zero-shot ATSC with Prompts"
   ]
  },
  {
   "cell_type": "markdown",
   "metadata": {
    "id": "3jNAtuv-hbzv"
   },
   "source": [
    "## Initialize BERT MLM"
   ]
  },
  {
   "cell_type": "code",
   "execution_count": 10,
   "metadata": {
    "id": "En2BmfjVhbzy"
   },
   "outputs": [],
   "source": [
    "tokenizer = transformers.AutoTokenizer.from_pretrained(\"../bert_base_uncased\")"
   ]
  },
  {
   "cell_type": "markdown",
   "metadata": {
    "id": "TEIbN5Xthb0o"
   },
   "source": [
    "## Define a new model"
   ]
  },
  {
   "cell_type": "code",
   "execution_count": 11,
   "metadata": {
    "colab": {
     "base_uri": "https://localhost:8080/"
    },
    "executionInfo": {
     "elapsed": 12519,
     "status": "ok",
     "timestamp": 1620418936896,
     "user": {
      "displayName": "Ronald Seoh",
      "photoUrl": "",
      "userId": "10284188050297676522"
     },
     "user_tz": 240
    },
    "id": "wN3q4Rsopxby",
    "outputId": "f9336495-e129-4ca0-d311-6bc3c2f38c20"
   },
   "outputs": [
    {
     "name": "stderr",
     "output_type": "stream",
     "text": [
      "Some weights of the model checkpoint at ../bert_base_uncased were not used when initializing BertForSequenceClassification: ['cls.predictions.bias', 'cls.predictions.transform.dense.weight', 'cls.predictions.transform.dense.bias', 'cls.predictions.decoder.weight', 'cls.seq_relationship.weight', 'cls.seq_relationship.bias', 'cls.predictions.transform.LayerNorm.weight', 'cls.predictions.transform.LayerNorm.bias']\n",
      "- This IS expected if you are initializing BertForSequenceClassification from the checkpoint of a model trained on another task or with another architecture (e.g. initializing a BertForSequenceClassification model from a BertForPreTraining model).\n",
      "- This IS NOT expected if you are initializing BertForSequenceClassification from the checkpoint of a model that you expect to be exactly identical (initializing a BertForSequenceClassification model from a BertForSequenceClassification model).\n",
      "Some weights of BertForSequenceClassification were not initialized from the model checkpoint at ../bert_base_uncased and are newly initialized: ['classifier.weight', 'classifier.bias']\n",
      "You should probably TRAIN this model on a down-stream task to be able to use it for predictions and inference.\n"
     ]
    }
   ],
   "source": [
    "classifier_model = transformers.AutoModelForSequenceClassification.from_pretrained(\"../bert_base_uncased\", num_labels=3)\n",
    "\n",
    "# classifier_model = classifier_model.to(device=torch_device)"
   ]
  },
  {
   "cell_type": "markdown",
   "metadata": {
    "id": "1U6B5GNSYBYk"
   },
   "source": [
    "## Load our saved weights"
   ]
  },
  {
   "cell_type": "code",
   "execution_count": 13,
   "metadata": {
    "colab": {
     "base_uri": "https://localhost:8080/"
    },
    "executionInfo": {
     "elapsed": 14206,
     "status": "ok",
     "timestamp": 1620418938595,
     "user": {
      "displayName": "Ronald Seoh",
      "photoUrl": "",
      "userId": "10284188050297676522"
     },
     "user_tz": 240
    },
    "id": "gLo25nUcYBGx",
    "outputId": "f5fef2db-f954-4d65-b4c9-c8e93a269b5d"
   },
   "outputs": [
    {
     "name": "stdout",
     "output_type": "stream",
     "text": [
      "Loading epoch_0.pt\n"
     ]
    },
    {
     "ename": "RuntimeError",
     "evalue": "Error(s) in loading state_dict for BertForSequenceClassification:\n\tMissing key(s) in state_dict: \"bert.embeddings.position_ids\", \"bert.embeddings.word_embeddings.weight\", \"bert.embeddings.position_embeddings.weight\", \"bert.embeddings.token_type_embeddings.weight\", \"bert.embeddings.LayerNorm.weight\", \"bert.embeddings.LayerNorm.bias\", \"bert.encoder.layer.0.attention.self.query.weight\", \"bert.encoder.layer.0.attention.self.query.bias\", \"bert.encoder.layer.0.attention.self.key.weight\", \"bert.encoder.layer.0.attention.self.key.bias\", \"bert.encoder.layer.0.attention.self.value.weight\", \"bert.encoder.layer.0.attention.self.value.bias\", \"bert.encoder.layer.0.attention.output.dense.weight\", \"bert.encoder.layer.0.attention.output.dense.bias\", \"bert.encoder.layer.0.attention.output.LayerNorm.weight\", \"bert.encoder.layer.0.attention.output.LayerNorm.bias\", \"bert.encoder.layer.0.intermediate.dense.weight\", \"bert.encoder.layer.0.intermediate.dense.bias\", \"bert.encoder.layer.0.output.dense.weight\", \"bert.encoder.layer.0.output.dense.bias\", \"bert.encoder.layer.0.output.LayerNorm.weight\", \"bert.encoder.layer.0.output.LayerNorm.bias\", \"bert.encoder.layer.1.attention.self.query.weight\", \"bert.encoder.layer.1.attention.self.query.bias\", \"bert.encoder.layer.1.attention.self.key.weight\", \"bert.encoder.layer.1.attention.self.key.bias\", \"bert.encoder.layer.1.attention.self.value.weight\", \"bert.encoder.layer.1.attention.self.value.bias\", \"bert.encoder.layer.1.attention.output.dense.weight\", \"bert.encoder.layer.1.attention.output.dense.bias\", \"bert.encoder.layer.1.attention.output.LayerNorm.weight\", \"bert.encoder.layer.1.attention.output.LayerNorm.bias\", \"bert.encoder.layer.1.intermediate.dense.weight\", \"bert.encoder.layer.1.intermediate.dense.bias\", \"bert.encoder.layer.1.output.dense.weight\", \"bert.encoder.layer.1.output.dense.bias\", \"bert.encoder.layer.1.output.LayerNorm.weight\", \"bert.encoder.layer.1.output.LayerNorm.bias\", \"bert.encoder.layer.2.attention.self.query.weight\", \"bert.encoder.layer.2.attention.self.query.bias\", \"bert.encoder.layer.2.attention.self.key.weight\", \"bert.encoder.layer.2.attention.self.key.bias\", \"bert.encoder.layer.2.attention.self.value.weight\", \"bert.encoder.layer.2.attention.self.value.bias\", \"bert.encoder.layer.2.attention.output.dense.weight\", \"bert.encoder.layer.2.attention.output.dense.bias\", \"bert.encoder.layer.2.attention.output.LayerNorm.weight\", \"bert.encoder.layer.2.attention.output.LayerNorm.bias\", \"bert.encoder.layer.2.intermediate.dense.weight\", \"bert.encoder.layer.2.intermediate.dense.bias\", \"bert.encoder.layer.2.output.dense.weight\", \"bert.encoder.layer.2.output.dense.bias\", \"bert.encoder.layer.2.output.LayerNorm.weight\", \"bert.encoder.layer.2.output.LayerNorm.bias\", \"bert.encoder.layer.3.attention.self.query.weight\", \"bert.encoder.layer.3.attention.self.query.bias\", \"bert.encoder.layer.3.attention.self.key.weight\", \"bert.encoder.layer.3.attention.self.key.bias\", \"bert.encoder.layer.3.attention.self.value.weight\", \"bert.encoder.layer.3.attention.self.value.bias\", \"bert.encoder.layer.3.attention.output.dense.weight\", \"bert.encoder.layer.3.attention.output.dense.bias\", \"bert.encoder.layer.3.attention.output.LayerNorm.weight\", \"bert.encoder.layer.3.attention.output.LayerNorm.bias\", \"bert.encoder.layer.3.intermediate.dense.weight\", \"bert.encoder.layer.3.intermediate.dense.bias\", \"bert.encoder.layer.3.output.dense.weight\", \"bert.encoder.layer.3.output.dense.bias\", \"bert.encoder.layer.3.output.LayerNorm.weight\", \"bert.encoder.layer.3.output.LayerNorm.bias\", \"bert.encoder.layer.4.attention.self.query.weight\", \"bert.encoder.layer.4.attention.self.query.bias\", \"bert.encoder.layer.4.attention.self.key.weight\", \"bert.encoder.layer.4.attention.self.key.bias\", \"bert.encoder.layer.4.attention.self.value.weight\", \"bert.encoder.layer.4.attention.self.value.bias\", \"bert.encoder.layer.4.attention.output.dense.weight\", \"bert.encoder.layer.4.attention.output.dense.bias\", \"bert.encoder.layer.4.attention.output.LayerNorm.weight\", \"bert.encoder.layer.4.attention.output.LayerNorm.bias\", \"bert.encoder.layer.4.intermediate.dense.weight\", \"bert.encoder.layer.4.intermediate.dense.bias\", \"bert.encoder.layer.4.output.dense.weight\", \"bert.encoder.layer.4.output.dense.bias\", \"bert.encoder.layer.4.output.LayerNorm.weight\", \"bert.encoder.layer.4.output.LayerNorm.bias\", \"bert.encoder.layer.5.attention.self.query.weight\", \"bert.encoder.layer.5.attention.self.query.bias\", \"bert.encoder.layer.5.attention.self.key.weight\", \"bert.encoder.layer.5.attention.self.key.bias\", \"bert.encoder.layer.5.attention.self.value.weight\", \"bert.encoder.layer.5.attention.self.value.bias\", \"bert.encoder.layer.5.attention.output.dense.weight\", \"bert.encoder.layer.5.attention.output.dense.bias\", \"bert.encoder.layer.5.attention.output.LayerNorm.weight\", \"bert.encoder.layer.5.attention.output.LayerNorm.bias\", \"bert.encoder.layer.5.intermediate.dense.weight\", \"bert.encoder.layer.5.intermediate.dense.bias\", \"bert.encoder.layer.5.output.dense.weight\", \"bert.encoder.layer.5.output.dense.bias\", \"bert.encoder.layer.5.output.LayerNorm.weight\", \"bert.encoder.layer.5.output.LayerNorm.bias\", \"bert.encoder.layer.6.attention.self.query.weight\", \"bert.encoder.layer.6.attention.self.query.bias\", \"bert.encoder.layer.6.attention.self.key.weight\", \"bert.encoder.layer.6.attention.self.key.bias\", \"bert.encoder.layer.6.attention.self.value.weight\", \"bert.encoder.layer.6.attention.self.value.bias\", \"bert.encoder.layer.6.attention.output.dense.weight\", \"bert.encoder.layer.6.attention.output.dense.bias\", \"bert.encoder.layer.6.attention.output.LayerNorm.weight\", \"bert.encoder.layer.6.attention.output.LayerNorm.bias\", \"bert.encoder.layer.6.intermediate.dense.weight\", \"bert.encoder.layer.6.intermediate.dense.bias\", \"bert.encoder.layer.6.output.dense.weight\", \"bert.encoder.layer.6.output.dense.bias\", \"bert.encoder.layer.6.output.LayerNorm.weight\", \"bert.encoder.layer.6.output.LayerNorm.bias\", \"bert.encoder.layer.7.attention.self.query.weight\", \"bert.encoder.layer.7.attention.self.query.bias\", \"bert.encoder.layer.7.attention.self.key.weight\", \"bert.encoder.layer.7.attention.self.key.bias\", \"bert.encoder.layer.7.attention.self.value.weight\", \"bert.encoder.layer.7.attention.self.value.bias\", \"bert.encoder.layer.7.attention.output.dense.weight\", \"bert.encoder.layer.7.attention.output.dense.bias\", \"bert.encoder.layer.7.attention.output.LayerNorm.weight\", \"bert.encoder.layer.7.attention.output.LayerNorm.bias\", \"bert.encoder.layer.7.intermediate.dense.weight\", \"bert.encoder.layer.7.intermediate.dense.bias\", \"bert.encoder.layer.7.output.dense.weight\", \"bert.encoder.layer.7.output.dense.bias\", \"bert.encoder.layer.7.output.LayerNorm.weight\", \"bert.encoder.layer.7.output.LayerNorm.bias\", \"bert.encoder.layer.8.attention.self.query.weight\", \"bert.encoder.layer.8.attention.self.query.bias\", \"bert.encoder.layer.8.attention.self.key.weight\", \"bert.encoder.layer.8.attention.self.key.bias\", \"bert.encoder.layer.8.attention.self.value.weight\", \"bert.encoder.layer.8.attention.self.value.bias\", \"bert.encoder.layer.8.attention.output.dense.weight\", \"bert.encoder.layer.8.attention.output.dense.bias\", \"bert.encoder.layer.8.attention.output.LayerNorm.weight\", \"bert.encoder.layer.8.attention.output.LayerNorm.bias\", \"bert.encoder.layer.8.intermediate.dense.weight\", \"bert.encoder.layer.8.intermediate.dense.bias\", \"bert.encoder.layer.8.output.dense.weight\", \"bert.encoder.layer.8.output.dense.bias\", \"bert.encoder.layer.8.output.LayerNorm.weight\", \"bert.encoder.layer.8.output.LayerNorm.bias\", \"bert.encoder.layer.9.attention.self.query.weight\", \"bert.encoder.layer.9.attention.self.query.bias\", \"bert.encoder.layer.9.attention.self.key.weight\", \"bert.encoder.layer.9.attention.self.key.bias\", \"bert.encoder.layer.9.attention.self.value.weight\", \"bert.encoder.layer.9.attention.self.value.bias\", \"bert.encoder.layer.9.attention.output.dense.weight\", \"bert.encoder.layer.9.attention.output.dense.bias\", \"bert.encoder.layer.9.attention.output.LayerNorm.weight\", \"bert.encoder.layer.9.attention.output.LayerNorm.bias\", \"bert.encoder.layer.9.intermediate.dense.weight\", \"bert.encoder.layer.9.intermediate.dense.bias\", \"bert.encoder.layer.9.output.dense.weight\", \"bert.encoder.layer.9.output.dense.bias\", \"bert.encoder.layer.9.output.LayerNorm.weight\", \"bert.encoder.layer.9.output.LayerNorm.bias\", \"bert.encoder.layer.10.attention.self.query.weight\", \"bert.encoder.layer.10.attention.self.query.bias\", \"bert.encoder.layer.10.attention.self.key.weight\", \"bert.encoder.layer.10.attention.self.key.bias\", \"bert.encoder.layer.10.attention.self.value.weight\", \"bert.encoder.layer.10.attention.self.value.bias\", \"bert.encoder.layer.10.attention.output.dense.weight\", \"bert.encoder.layer.10.attention.output.dense.bias\", \"bert.encoder.layer.10.attention.output.LayerNorm.weight\", \"bert.encoder.layer.10.attention.output.LayerNorm.bias\", \"bert.encoder.layer.10.intermediate.dense.weight\", \"bert.encoder.layer.10.intermediate.dense.bias\", \"bert.encoder.layer.10.output.dense.weight\", \"bert.encoder.layer.10.output.dense.bias\", \"bert.encoder.layer.10.output.LayerNorm.weight\", \"bert.encoder.layer.10.output.LayerNorm.bias\", \"bert.encoder.layer.11.attention.self.query.weight\", \"bert.encoder.layer.11.attention.self.query.bias\", \"bert.encoder.layer.11.attention.self.key.weight\", \"bert.encoder.layer.11.attention.self.key.bias\", \"bert.encoder.layer.11.attention.self.value.weight\", \"bert.encoder.layer.11.attention.self.value.bias\", \"bert.encoder.layer.11.attention.output.dense.weight\", \"bert.encoder.layer.11.attention.output.dense.bias\", \"bert.encoder.layer.11.attention.output.LayerNorm.weight\", \"bert.encoder.layer.11.attention.output.LayerNorm.bias\", \"bert.encoder.layer.11.intermediate.dense.weight\", \"bert.encoder.layer.11.intermediate.dense.bias\", \"bert.encoder.layer.11.output.dense.weight\", \"bert.encoder.layer.11.output.dense.bias\", \"bert.encoder.layer.11.output.LayerNorm.weight\", \"bert.encoder.layer.11.output.LayerNorm.bias\", \"bert.pooler.dense.weight\", \"bert.pooler.dense.bias\", \"classifier.weight\", \"classifier.bias\". \n\tUnexpected key(s) in state_dict: \"lm.bert.embeddings.position_ids\", \"lm.bert.embeddings.word_embeddings.weight\", \"lm.bert.embeddings.position_embeddings.weight\", \"lm.bert.embeddings.token_type_embeddings.weight\", \"lm.bert.embeddings.LayerNorm.weight\", \"lm.bert.embeddings.LayerNorm.bias\", \"lm.bert.encoder.layer.0.attention.self.query.weight\", \"lm.bert.encoder.layer.0.attention.self.query.bias\", \"lm.bert.encoder.layer.0.attention.self.key.weight\", \"lm.bert.encoder.layer.0.attention.self.key.bias\", \"lm.bert.encoder.layer.0.attention.self.value.weight\", \"lm.bert.encoder.layer.0.attention.self.value.bias\", \"lm.bert.encoder.layer.0.attention.output.dense.weight\", \"lm.bert.encoder.layer.0.attention.output.dense.bias\", \"lm.bert.encoder.layer.0.attention.output.LayerNorm.weight\", \"lm.bert.encoder.layer.0.attention.output.LayerNorm.bias\", \"lm.bert.encoder.layer.0.intermediate.dense.weight\", \"lm.bert.encoder.layer.0.intermediate.dense.bias\", \"lm.bert.encoder.layer.0.output.dense.weight\", \"lm.bert.encoder.layer.0.output.dense.bias\", \"lm.bert.encoder.layer.0.output.LayerNorm.weight\", \"lm.bert.encoder.layer.0.output.LayerNorm.bias\", \"lm.bert.encoder.layer.1.attention.self.query.weight\", \"lm.bert.encoder.layer.1.attention.self.query.bias\", \"lm.bert.encoder.layer.1.attention.self.key.weight\", \"lm.bert.encoder.layer.1.attention.self.key.bias\", \"lm.bert.encoder.layer.1.attention.self.value.weight\", \"lm.bert.encoder.layer.1.attention.self.value.bias\", \"lm.bert.encoder.layer.1.attention.output.dense.weight\", \"lm.bert.encoder.layer.1.attention.output.dense.bias\", \"lm.bert.encoder.layer.1.attention.output.LayerNorm.weight\", \"lm.bert.encoder.layer.1.attention.output.LayerNorm.bias\", \"lm.bert.encoder.layer.1.intermediate.dense.weight\", \"lm.bert.encoder.layer.1.intermediate.dense.bias\", \"lm.bert.encoder.layer.1.output.dense.weight\", \"lm.bert.encoder.layer.1.output.dense.bias\", \"lm.bert.encoder.layer.1.output.LayerNorm.weight\", \"lm.bert.encoder.layer.1.output.LayerNorm.bias\", \"lm.bert.encoder.layer.2.attention.self.query.weight\", \"lm.bert.encoder.layer.2.attention.self.query.bias\", \"lm.bert.encoder.layer.2.attention.self.key.weight\", \"lm.bert.encoder.layer.2.attention.self.key.bias\", \"lm.bert.encoder.layer.2.attention.self.value.weight\", \"lm.bert.encoder.layer.2.attention.self.value.bias\", \"lm.bert.encoder.layer.2.attention.output.dense.weight\", \"lm.bert.encoder.layer.2.attention.output.dense.bias\", \"lm.bert.encoder.layer.2.attention.output.LayerNorm.weight\", \"lm.bert.encoder.layer.2.attention.output.LayerNorm.bias\", \"lm.bert.encoder.layer.2.intermediate.dense.weight\", \"lm.bert.encoder.layer.2.intermediate.dense.bias\", \"lm.bert.encoder.layer.2.output.dense.weight\", \"lm.bert.encoder.layer.2.output.dense.bias\", \"lm.bert.encoder.layer.2.output.LayerNorm.weight\", \"lm.bert.encoder.layer.2.output.LayerNorm.bias\", \"lm.bert.encoder.layer.3.attention.self.query.weight\", \"lm.bert.encoder.layer.3.attention.self.query.bias\", \"lm.bert.encoder.layer.3.attention.self.key.weight\", \"lm.bert.encoder.layer.3.attention.self.key.bias\", \"lm.bert.encoder.layer.3.attention.self.value.weight\", \"lm.bert.encoder.layer.3.attention.self.value.bias\", \"lm.bert.encoder.layer.3.attention.output.dense.weight\", \"lm.bert.encoder.layer.3.attention.output.dense.bias\", \"lm.bert.encoder.layer.3.attention.output.LayerNorm.weight\", \"lm.bert.encoder.layer.3.attention.output.LayerNorm.bias\", \"lm.bert.encoder.layer.3.intermediate.dense.weight\", \"lm.bert.encoder.layer.3.intermediate.dense.bias\", \"lm.bert.encoder.layer.3.output.dense.weight\", \"lm.bert.encoder.layer.3.output.dense.bias\", \"lm.bert.encoder.layer.3.output.LayerNorm.weight\", \"lm.bert.encoder.layer.3.output.LayerNorm.bias\", \"lm.bert.encoder.layer.4.attention.self.query.weight\", \"lm.bert.encoder.layer.4.attention.self.query.bias\", \"lm.bert.encoder.layer.4.attention.self.key.weight\", \"lm.bert.encoder.layer.4.attention.self.key.bias\", \"lm.bert.encoder.layer.4.attention.self.value.weight\", \"lm.bert.encoder.layer.4.attention.self.value.bias\", \"lm.bert.encoder.layer.4.attention.output.dense.weight\", \"lm.bert.encoder.layer.4.attention.output.dense.bias\", \"lm.bert.encoder.layer.4.attention.output.LayerNorm.weight\", \"lm.bert.encoder.layer.4.attention.output.LayerNorm.bias\", \"lm.bert.encoder.layer.4.intermediate.dense.weight\", \"lm.bert.encoder.layer.4.intermediate.dense.bias\", \"lm.bert.encoder.layer.4.output.dense.weight\", \"lm.bert.encoder.layer.4.output.dense.bias\", \"lm.bert.encoder.layer.4.output.LayerNorm.weight\", \"lm.bert.encoder.layer.4.output.LayerNorm.bias\", \"lm.bert.encoder.layer.5.attention.self.query.weight\", \"lm.bert.encoder.layer.5.attention.self.query.bias\", \"lm.bert.encoder.layer.5.attention.self.key.weight\", \"lm.bert.encoder.layer.5.attention.self.key.bias\", \"lm.bert.encoder.layer.5.attention.self.value.weight\", \"lm.bert.encoder.layer.5.attention.self.value.bias\", \"lm.bert.encoder.layer.5.attention.output.dense.weight\", \"lm.bert.encoder.layer.5.attention.output.dense.bias\", \"lm.bert.encoder.layer.5.attention.output.LayerNorm.weight\", \"lm.bert.encoder.layer.5.attention.output.LayerNorm.bias\", \"lm.bert.encoder.layer.5.intermediate.dense.weight\", \"lm.bert.encoder.layer.5.intermediate.dense.bias\", \"lm.bert.encoder.layer.5.output.dense.weight\", \"lm.bert.encoder.layer.5.output.dense.bias\", \"lm.bert.encoder.layer.5.output.LayerNorm.weight\", \"lm.bert.encoder.layer.5.output.LayerNorm.bias\", \"lm.bert.encoder.layer.6.attention.self.query.weight\", \"lm.bert.encoder.layer.6.attention.self.query.bias\", \"lm.bert.encoder.layer.6.attention.self.key.weight\", \"lm.bert.encoder.layer.6.attention.self.key.bias\", \"lm.bert.encoder.layer.6.attention.self.value.weight\", \"lm.bert.encoder.layer.6.attention.self.value.bias\", \"lm.bert.encoder.layer.6.attention.output.dense.weight\", \"lm.bert.encoder.layer.6.attention.output.dense.bias\", \"lm.bert.encoder.layer.6.attention.output.LayerNorm.weight\", \"lm.bert.encoder.layer.6.attention.output.LayerNorm.bias\", \"lm.bert.encoder.layer.6.intermediate.dense.weight\", \"lm.bert.encoder.layer.6.intermediate.dense.bias\", \"lm.bert.encoder.layer.6.output.dense.weight\", \"lm.bert.encoder.layer.6.output.dense.bias\", \"lm.bert.encoder.layer.6.output.LayerNorm.weight\", \"lm.bert.encoder.layer.6.output.LayerNorm.bias\", \"lm.bert.encoder.layer.7.attention.self.query.weight\", \"lm.bert.encoder.layer.7.attention.self.query.bias\", \"lm.bert.encoder.layer.7.attention.self.key.weight\", \"lm.bert.encoder.layer.7.attention.self.key.bias\", \"lm.bert.encoder.layer.7.attention.self.value.weight\", \"lm.bert.encoder.layer.7.attention.self.value.bias\", \"lm.bert.encoder.layer.7.attention.output.dense.weight\", \"lm.bert.encoder.layer.7.attention.output.dense.bias\", \"lm.bert.encoder.layer.7.attention.output.LayerNorm.weight\", \"lm.bert.encoder.layer.7.attention.output.LayerNorm.bias\", \"lm.bert.encoder.layer.7.intermediate.dense.weight\", \"lm.bert.encoder.layer.7.intermediate.dense.bias\", \"lm.bert.encoder.layer.7.output.dense.weight\", \"lm.bert.encoder.layer.7.output.dense.bias\", \"lm.bert.encoder.layer.7.output.LayerNorm.weight\", \"lm.bert.encoder.layer.7.output.LayerNorm.bias\", \"lm.bert.encoder.layer.8.attention.self.query.weight\", \"lm.bert.encoder.layer.8.attention.self.query.bias\", \"lm.bert.encoder.layer.8.attention.self.key.weight\", \"lm.bert.encoder.layer.8.attention.self.key.bias\", \"lm.bert.encoder.layer.8.attention.self.value.weight\", \"lm.bert.encoder.layer.8.attention.self.value.bias\", \"lm.bert.encoder.layer.8.attention.output.dense.weight\", \"lm.bert.encoder.layer.8.attention.output.dense.bias\", \"lm.bert.encoder.layer.8.attention.output.LayerNorm.weight\", \"lm.bert.encoder.layer.8.attention.output.LayerNorm.bias\", \"lm.bert.encoder.layer.8.intermediate.dense.weight\", \"lm.bert.encoder.layer.8.intermediate.dense.bias\", \"lm.bert.encoder.layer.8.output.dense.weight\", \"lm.bert.encoder.layer.8.output.dense.bias\", \"lm.bert.encoder.layer.8.output.LayerNorm.weight\", \"lm.bert.encoder.layer.8.output.LayerNorm.bias\", \"lm.bert.encoder.layer.9.attention.self.query.weight\", \"lm.bert.encoder.layer.9.attention.self.query.bias\", \"lm.bert.encoder.layer.9.attention.self.key.weight\", \"lm.bert.encoder.layer.9.attention.self.key.bias\", \"lm.bert.encoder.layer.9.attention.self.value.weight\", \"lm.bert.encoder.layer.9.attention.self.value.bias\", \"lm.bert.encoder.layer.9.attention.output.dense.weight\", \"lm.bert.encoder.layer.9.attention.output.dense.bias\", \"lm.bert.encoder.layer.9.attention.output.LayerNorm.weight\", \"lm.bert.encoder.layer.9.attention.output.LayerNorm.bias\", \"lm.bert.encoder.layer.9.intermediate.dense.weight\", \"lm.bert.encoder.layer.9.intermediate.dense.bias\", \"lm.bert.encoder.layer.9.output.dense.weight\", \"lm.bert.encoder.layer.9.output.dense.bias\", \"lm.bert.encoder.layer.9.output.LayerNorm.weight\", \"lm.bert.encoder.layer.9.output.LayerNorm.bias\", \"lm.bert.encoder.layer.10.attention.self.query.weight\", \"lm.bert.encoder.layer.10.attention.self.query.bias\", \"lm.bert.encoder.layer.10.attention.self.key.weight\", \"lm.bert.encoder.layer.10.attention.self.key.bias\", \"lm.bert.encoder.layer.10.attention.self.value.weight\", \"lm.bert.encoder.layer.10.attention.self.value.bias\", \"lm.bert.encoder.layer.10.attention.output.dense.weight\", \"lm.bert.encoder.layer.10.attention.output.dense.bias\", \"lm.bert.encoder.layer.10.attention.output.LayerNorm.weight\", \"lm.bert.encoder.layer.10.attention.output.LayerNorm.bias\", \"lm.bert.encoder.layer.10.intermediate.dense.weight\", \"lm.bert.encoder.layer.10.intermediate.dense.bias\", \"lm.bert.encoder.layer.10.output.dense.weight\", \"lm.bert.encoder.layer.10.output.dense.bias\", \"lm.bert.encoder.layer.10.output.LayerNorm.weight\", \"lm.bert.encoder.layer.10.output.LayerNorm.bias\", \"lm.bert.encoder.layer.11.attention.self.query.weight\", \"lm.bert.encoder.layer.11.attention.self.query.bias\", \"lm.bert.encoder.layer.11.attention.self.key.weight\", \"lm.bert.encoder.layer.11.attention.self.key.bias\", \"lm.bert.encoder.layer.11.attention.self.value.weight\", \"lm.bert.encoder.layer.11.attention.self.value.bias\", \"lm.bert.encoder.layer.11.attention.output.dense.weight\", \"lm.bert.encoder.layer.11.attention.output.dense.bias\", \"lm.bert.encoder.layer.11.attention.output.LayerNorm.weight\", \"lm.bert.encoder.layer.11.attention.output.LayerNorm.bias\", \"lm.bert.encoder.layer.11.intermediate.dense.weight\", \"lm.bert.encoder.layer.11.intermediate.dense.bias\", \"lm.bert.encoder.layer.11.output.dense.weight\", \"lm.bert.encoder.layer.11.output.dense.bias\", \"lm.bert.encoder.layer.11.output.LayerNorm.weight\", \"lm.bert.encoder.layer.11.output.LayerNorm.bias\", \"lm.cls.predictions.bias\", \"lm.cls.predictions.transform.dense.weight\", \"lm.cls.predictions.transform.dense.bias\", \"lm.cls.predictions.transform.LayerNorm.weight\", \"lm.cls.predictions.transform.LayerNorm.bias\", \"lm.cls.predictions.decoder.weight\", \"lm.cls.predictions.decoder.bias\", \"linear.weight\", \"linear.bias\". ",
     "output_type": "error",
     "traceback": [
      "\u001b[0;31m---------------------------------------------------------------------------\u001b[0m",
      "\u001b[0;31mRuntimeError\u001b[0m                              Traceback (most recent call last)",
      "\u001b[0;32m/tmp/ipykernel_1356/4273636647.py\u001b[0m in \u001b[0;36m<module>\u001b[0;34m\u001b[0m\n\u001b[1;32m     11\u001b[0m \u001b[0mprint\u001b[0m\u001b[0;34m(\u001b[0m\u001b[0;34m\"Loading\"\u001b[0m\u001b[0;34m,\u001b[0m \u001b[0msaved_weights_name\u001b[0m\u001b[0;34m)\u001b[0m\u001b[0;34m\u001b[0m\u001b[0;34m\u001b[0m\u001b[0m\n\u001b[1;32m     12\u001b[0m \u001b[0;34m\u001b[0m\u001b[0m\n\u001b[0;32m---> 13\u001b[0;31m classifier_model.load_state_dict(torch.load(\n\u001b[0m\u001b[1;32m     14\u001b[0m     \u001b[0mos\u001b[0m\u001b[0;34m.\u001b[0m\u001b[0mpath\u001b[0m\u001b[0;34m.\u001b[0m\u001b[0mjoin\u001b[0m\u001b[0;34m(\u001b[0m\u001b[0mtrained_model_directory\u001b[0m\u001b[0;34m,\u001b[0m \u001b[0msaved_weights_name\u001b[0m\u001b[0;34m)\u001b[0m\u001b[0;34m,\u001b[0m\u001b[0;34m\u001b[0m\u001b[0;34m\u001b[0m\u001b[0m\n\u001b[1;32m     15\u001b[0m     map_location=torch_device))\n",
      "\u001b[0;32m~/miniconda3/lib/python3.8/site-packages/torch/nn/modules/module.py\u001b[0m in \u001b[0;36mload_state_dict\u001b[0;34m(self, state_dict, strict)\u001b[0m\n\u001b[1;32m   1049\u001b[0m \u001b[0;34m\u001b[0m\u001b[0m\n\u001b[1;32m   1050\u001b[0m         \u001b[0;32mif\u001b[0m \u001b[0mlen\u001b[0m\u001b[0;34m(\u001b[0m\u001b[0merror_msgs\u001b[0m\u001b[0;34m)\u001b[0m \u001b[0;34m>\u001b[0m \u001b[0;36m0\u001b[0m\u001b[0;34m:\u001b[0m\u001b[0;34m\u001b[0m\u001b[0;34m\u001b[0m\u001b[0m\n\u001b[0;32m-> 1051\u001b[0;31m             raise RuntimeError('Error(s) in loading state_dict for {}:\\n\\t{}'.format(\n\u001b[0m\u001b[1;32m   1052\u001b[0m                                self.__class__.__name__, \"\\n\\t\".join(error_msgs)))\n\u001b[1;32m   1053\u001b[0m         \u001b[0;32mreturn\u001b[0m \u001b[0m_IncompatibleKeys\u001b[0m\u001b[0;34m(\u001b[0m\u001b[0mmissing_keys\u001b[0m\u001b[0;34m,\u001b[0m \u001b[0munexpected_keys\u001b[0m\u001b[0;34m)\u001b[0m\u001b[0;34m\u001b[0m\u001b[0;34m\u001b[0m\u001b[0m\n",
      "\u001b[0;31mRuntimeError\u001b[0m: Error(s) in loading state_dict for BertForSequenceClassification:\n\tMissing key(s) in state_dict: \"bert.embeddings.position_ids\", \"bert.embeddings.word_embeddings.weight\", \"bert.embeddings.position_embeddings.weight\", \"bert.embeddings.token_type_embeddings.weight\", \"bert.embeddings.LayerNorm.weight\", \"bert.embeddings.LayerNorm.bias\", \"bert.encoder.layer.0.attention.self.query.weight\", \"bert.encoder.layer.0.attention.self.query.bias\", \"bert.encoder.layer.0.attention.self.key.weight\", \"bert.encoder.layer.0.attention.self.key.bias\", \"bert.encoder.layer.0.attention.self.value.weight\", \"bert.encoder.layer.0.attention.self.value.bias\", \"bert.encoder.layer.0.attention.output.dense.weight\", \"bert.encoder.layer.0.attention.output.dense.bias\", \"bert.encoder.layer.0.attention.output.LayerNorm.weight\", \"bert.encoder.layer.0.attention.output.LayerNorm.bias\", \"bert.encoder.layer.0.intermediate.dense.weight\", \"bert.encoder.layer.0.intermediate.dense.bias\", \"bert.encoder.layer.0.output.dense.weight\", \"bert.encoder.layer.0.output.dense.bias\", \"bert.encoder.layer.0.output.LayerNorm.weight\", \"bert.encoder.layer.0.output.LayerNorm.bias\", \"bert.encoder.layer.1.attention.self.query.weight\", \"bert.encoder.layer.1.attention.self.query.bias\", \"bert.encoder.layer.1.attention.self.key.weight\", \"bert.encoder.layer.1.attention.self.key.bias\", \"bert.encoder.layer.1.attention.self.value.weight\", \"bert.encoder.layer.1.attention.self.value.bias\", \"bert.encoder.layer.1.attention.output.dense.weight\", \"bert.encoder.layer.1.attention.output.dense.bias\", \"bert.encoder.layer.1.attention.output.LayerNorm.weight\", \"bert.encoder.layer.1.attention.output.LayerNorm.bias\", \"bert.encoder.layer.1.intermediate.dense.weight\", \"bert.encoder.layer.1.intermediate.dense.bias\", \"bert.encoder.layer.1.output.dense.weight\", \"bert.encoder.layer.1.output.dense.bias\", \"bert.encoder.layer.1.output.LayerNorm.weight\", \"bert.encoder.layer.1.output.LayerNorm.bias\", \"bert.encoder.layer.2.attention.self.query.weight\", \"bert.encoder.layer.2.attention.self.query.bias\", \"bert.encoder.layer.2.attention.self.key.weight\", \"bert.encoder.layer.2.attention.self.key.bias\", \"bert.encoder.layer.2.attention.self.value.weight\", \"bert.encoder.layer.2.attention.self.value.bias\", \"bert.encoder.layer.2.attention.output.dense.weight\", \"bert.encoder.layer.2.attention.output.dense.bias\", \"bert.encoder.layer.2.attention.output.LayerNorm.weight\", \"bert.encoder.layer.2.attention.output.LayerNorm.bias\", \"bert.encoder.layer.2.intermediate.dense.weight\", \"bert.encoder.layer.2.intermediate.dense.bias\", \"bert.encoder.layer.2.output.dense.weight\", \"bert.encoder.layer.2.output.dense.bias\", \"bert.encoder.layer.2.output.LayerNorm.weight\", \"bert.encoder.layer.2.output.LayerNorm.bias\", \"bert.encoder.layer.3.attention.self.query.weight\", \"bert.encoder.layer.3.attention.self.query.bias\", \"bert.encoder.layer.3.attention.self.key.weight\", \"bert.encoder.layer.3.attention.self.key.bias\", \"bert.encoder.layer.3.attention.self.value.weight\", \"bert.encoder.layer.3.attention.self.value.bias\", \"bert.encoder.layer.3.attention.output.dense.weight\", \"bert.encoder.layer.3.attention.output.dense.bias\", \"bert.encoder.layer.3.attention.output.LayerNorm.weight\", \"bert.encoder.layer.3.attention.output.LayerNorm.bias\", \"bert.encoder.layer.3.intermediate.dense.weight\", \"bert.encoder.layer.3.intermediate.dense.bias\", \"bert.encoder.layer.3.output.dense.weight\", \"bert.encoder.layer.3.output.dense.bias\", \"bert.encoder.layer.3.output.LayerNorm.weight\", \"bert.encoder.layer.3.output.LayerNorm.bias\", \"bert.encoder.layer.4.attention.self.query.weight\", \"bert.encoder.layer.4.attention.self.query.bias\", \"bert.encoder.layer.4.attention.self.key.weight\", \"bert.encoder.layer.4.attention.self.key.bias\", \"bert.encoder.layer.4.attention.self.value.weight\", \"bert.encoder.layer.4.attention.self.value.bias\", \"bert.encoder.layer.4.attention.output.dense.weight\", \"bert.encoder.layer.4.attention.output.dense.bias\", \"bert.encoder.layer.4.attention.output.LayerNorm.weight\", \"bert.encoder.layer.4.attention.output.LayerNorm.bias\", \"bert.encoder.layer.4.intermediate.dense.weight\", \"bert.encoder.layer.4.intermediate.dense.bias\", \"bert.encoder.layer.4.output.dense.weight\", \"bert.encoder.layer.4.output.dense.bias\", \"bert.encoder.layer.4.output.LayerNorm.weight\", \"bert.encoder.layer.4.output.LayerNorm.bias\", \"bert.encoder.layer.5.attention.self.query.weight\", \"bert.encoder.layer.5.attention.self.query.bias\", \"bert.encoder.layer.5.attention.self.key.weight\", \"bert.encoder.layer.5.attention.self.key.bias\", \"bert.encoder.layer.5.attention.self.value.weight\", \"bert.encoder.layer.5.attention.self.value.bias\", \"bert.encoder.layer.5.attention.output.dense.weight\", \"bert.encoder.layer.5.attention.output.dense.bias\", \"bert.encoder.layer.5.attention.output.LayerNorm.weight\", \"bert.encoder.layer.5.attention.output.LayerNorm.bias\", \"bert.encoder.layer.5.intermediate.dense.weight\", \"bert.encoder.layer.5.intermediate.dense.bias\", \"bert.encoder.layer.5.output.dense.weight\", \"bert.encoder.layer.5.output.dense.bias\", \"bert.encoder.layer.5.output.LayerNorm.weight\", \"bert.encoder.layer.5.output.LayerNorm.bias\", \"bert.encoder.layer.6.attention.self.query.weight\", \"bert.encoder.layer.6.attention.self.query.bias\", \"bert.encoder.layer.6.attention.self.key.weight\", \"bert.encoder.layer.6.attention.self.key.bias\", \"bert.encoder.layer.6.attention.self.value.weight\", \"bert.encoder.layer.6.attention.self.value.bias\", \"bert.encoder.layer.6.attention.output.dense.weight\", \"bert.encoder.layer.6.attention.output.dense.bias\", \"bert.encoder.layer.6.attention.output.LayerNorm.weight\", \"bert.encoder.layer.6.attention.output.LayerNorm.bias\", \"bert.encoder.layer.6.intermediate.dense.weight\", \"bert.encoder.layer.6.intermediate.dense.bias\", \"bert.encoder.layer.6.output.dense.weight\", \"bert.encoder.layer.6.output.dense.bias\", \"bert.encoder.layer.6.output.LayerNorm.weight\", \"bert.encoder.layer.6.output.LayerNorm.bias\", \"bert.encoder.layer.7.attention.self.query.weight\", \"bert.encoder.layer.7.attention.self.query.bias\", \"bert.encoder.layer.7.attention.self.key.weight\", \"bert.encoder.layer.7.attention.self.key.bias\", \"bert.encoder.layer.7.attention.self.value.weight\", \"bert.encoder.layer.7.attention.self.value.bias\", \"bert.encoder.layer.7.attention.output.dense.weight\", \"bert.encoder.layer.7.attention.output.dense.bias\", \"bert.encoder.layer.7.attention.output.LayerNorm.weight\", \"bert.encoder.layer.7.attention.output.LayerNorm.bias\", \"bert.encoder.layer.7.intermediate.dense.weight\", \"bert.encoder.layer.7.intermediate.dense.bias\", \"bert.encoder.layer.7.output.dense.weight\", \"bert.encoder.layer.7.output.dense.bias\", \"bert.encoder.layer.7.output.LayerNorm.weight\", \"bert.encoder.layer.7.output.LayerNorm.bias\", \"bert.encoder.layer.8.attention.self.query.weight\", \"bert.encoder.layer.8.attention.self.query.bias\", \"bert.encoder.layer.8.attention.self.key.weight\", \"bert.encoder.layer.8.attention.self.key.bias\", \"bert.encoder.layer.8.attention.self.value.weight\", \"bert.encoder.layer.8.attention.self.value.bias\", \"bert.encoder.layer.8.attention.output.dense.weight\", \"bert.encoder.layer.8.attention.output.dense.bias\", \"bert.encoder.layer.8.attention.output.LayerNorm.weight\", \"bert.encoder.layer.8.attention.output.LayerNorm.bias\", \"bert.encoder.layer.8.intermediate.dense.weight\", \"bert.encoder.layer.8.intermediate.dense.bias\", \"bert.encoder.layer.8.output.dense.weight\", \"bert.encoder.layer.8.output.dense.bias\", \"bert.encoder.layer.8.output.LayerNorm.weight\", \"bert.encoder.layer.8.output.LayerNorm.bias\", \"bert.encoder.layer.9.attention.self.query.weight\", \"bert.encoder.layer.9.attention.self.query.bias\", \"bert.encoder.layer.9.attention.self.key.weight\", \"bert.encoder.layer.9.attention.self.key.bias\", \"bert.encoder.layer.9.attention.self.value.weight\", \"bert.encoder.layer.9.attention.self.value.bias\", \"bert.encoder.layer.9.attention.output.dense.weight\", \"bert.encoder.layer.9.attention.output.dense.bias\", \"bert.encoder.layer.9.attention.output.LayerNorm.weight\", \"bert.encoder.layer.9.attention.output.LayerNorm.bias\", \"bert.encoder.layer.9.intermediate.dense.weight\", \"bert.encoder.layer.9.intermediate.dense.bias\", \"bert.encoder.layer.9.output.dense.weight\", \"bert.encoder.layer.9.output.dense.bias\", \"bert.encoder.layer.9.output.LayerNorm.weight\", \"bert.encoder.layer.9.output.LayerNorm.bias\", \"bert.encoder.layer.10.attention.self.query.weight\", \"bert.encoder.layer.10.attention.self.query.bias\", \"bert.encoder.layer.10.attention.self.key.weight\", \"bert.encoder.layer.10.attention.self.key.bias\", \"bert.encoder.layer.10.attention.self.value.weight\", \"bert.encoder.layer.10.attention.self.value.bias\", \"bert.encoder.layer.10.attention.output.dense.weight\", \"bert.encoder.layer.10.attention.output.dense.bias\", \"bert.encoder.layer.10.attention.output.LayerNorm.weight\", \"bert.encoder.layer.10.attention.output.LayerNorm.bias\", \"bert.encoder.layer.10.intermediate.dense.weight\", \"bert.encoder.layer.10.intermediate.dense.bias\", \"bert.encoder.layer.10.output.dense.weight\", \"bert.encoder.layer.10.output.dense.bias\", \"bert.encoder.layer.10.output.LayerNorm.weight\", \"bert.encoder.layer.10.output.LayerNorm.bias\", \"bert.encoder.layer.11.attention.self.query.weight\", \"bert.encoder.layer.11.attention.self.query.bias\", \"bert.encoder.layer.11.attention.self.key.weight\", \"bert.encoder.layer.11.attention.self.key.bias\", \"bert.encoder.layer.11.attention.self.value.weight\", \"bert.encoder.layer.11.attention.self.value.bias\", \"bert.encoder.layer.11.attention.output.dense.weight\", \"bert.encoder.layer.11.attention.output.dense.bias\", \"bert.encoder.layer.11.attention.output.LayerNorm.weight\", \"bert.encoder.layer.11.attention.output.LayerNorm.bias\", \"bert.encoder.layer.11.intermediate.dense.weight\", \"bert.encoder.layer.11.intermediate.dense.bias\", \"bert.encoder.layer.11.output.dense.weight\", \"bert.encoder.layer.11.output.dense.bias\", \"bert.encoder.layer.11.output.LayerNorm.weight\", \"bert.encoder.layer.11.output.LayerNorm.bias\", \"bert.pooler.dense.weight\", \"bert.pooler.dense.bias\", \"classifier.weight\", \"classifier.bias\". \n\tUnexpected key(s) in state_dict: \"lm.bert.embeddings.position_ids\", \"lm.bert.embeddings.word_embeddings.weight\", \"lm.bert.embeddings.position_embeddings.weight\", \"lm.bert.embeddings.token_type_embeddings.weight\", \"lm.bert.embeddings.LayerNorm.weight\", \"lm.bert.embeddings.LayerNorm.bias\", \"lm.bert.encoder.layer.0.attention.self.query.weight\", \"lm.bert.encoder.layer.0.attention.self.query.bias\", \"lm.bert.encoder.layer.0.attention.self.key.weight\", \"lm.bert.encoder.layer.0.attention.self.key.bias\", \"lm.bert.encoder.layer.0.attention.self.value.weight\", \"lm.bert.encoder.layer.0.attention.self.value.bias\", \"lm.bert.encoder.layer.0.attention.output.dense.weight\", \"lm.bert.encoder.layer.0.attention.output.dense.bias\", \"lm.bert.encoder.layer.0.attention.output.LayerNorm.weight\", \"lm.bert.encoder.layer.0.attention.output.LayerNorm.bias\", \"lm.bert.encoder.layer.0.intermediate.dense.weight\", \"lm.bert.encoder.layer.0.intermediate.dense.bias\", \"lm.bert.encoder.layer.0.output.dense.weight\", \"lm.bert.encoder.layer.0.output.dense.bias\", \"lm.bert.encoder.layer.0.output.LayerNorm.weight\", \"lm.bert.encoder.layer.0.output.LayerNorm.bias\", \"lm.bert.encoder.layer.1.attention.self.query.weight\", \"lm.bert.encoder.layer.1.attention.self.query.bias\", \"lm.bert.encoder.layer.1.attention.self.key.weight\", \"lm.bert.encoder.layer.1.attention.self.key.bias\", \"lm.bert.encoder.layer.1.attention.self.value.weight\", \"lm.bert.encoder.layer.1.attention.self.value.bias\", \"lm.bert.encoder.layer.1.attention.output.dense.weight\", \"lm.bert.encoder.layer.1.attention.output.dense.bias\", \"lm.bert.encoder.layer.1.attention.output.LayerNorm.weight\", \"lm.bert.encoder.layer.1.attention.output.LayerNorm.bias\", \"lm.bert.encoder.layer.1.intermediate.dense.weight\", \"lm.bert.encoder.layer.1.intermediate.dense.bias\", \"lm.bert.encoder.layer.1.output.dense.weight\", \"lm.bert.encoder.layer.1.output.dense.bias\", \"lm.bert.encoder.layer.1.output.LayerNorm.weight\", \"lm.bert.encoder.layer.1.output.LayerNorm.bias\", \"lm.bert.encoder.layer.2.attention.self.query.weight\", \"lm.bert.encoder.layer.2.attention.self.query.bias\", \"lm.bert.encoder.layer.2.attention.self.key.weight\", \"lm.bert.encoder.layer.2.attention.self.key.bias\", \"lm.bert.encoder.layer.2.attention.self.value.weight\", \"lm.bert.encoder.layer.2.attention.self.value.bias\", \"lm.bert.encoder.layer.2.attention.output.dense.weight\", \"lm.bert.encoder.layer.2.attention.output.dense.bias\", \"lm.bert.encoder.layer.2.attention.output.LayerNorm.weight\", \"lm.bert.encoder.layer.2.attention.output.LayerNorm.bias\", \"lm.bert.encoder.layer.2.intermediate.dense.weight\", \"lm.bert.encoder.layer.2.intermediate.dense.bias\", \"lm.bert.encoder.layer.2.output.dense.weight\", \"lm.bert.encoder.layer.2.output.dense.bias\", \"lm.bert.encoder.layer.2.output.LayerNorm.weight\", \"lm.bert.encoder.layer.2.output.LayerNorm.bias\", \"lm.bert.encoder.layer.3.attention.self.query.weight\", \"lm.bert.encoder.layer.3.attention.self.query.bias\", \"lm.bert.encoder.layer.3.attention.self.key.weight\", \"lm.bert.encoder.layer.3.attention.self.key.bias\", \"lm.bert.encoder.layer.3.attention.self.value.weight\", \"lm.bert.encoder.layer.3.attention.self.value.bias\", \"lm.bert.encoder.layer.3.attention.output.dense.weight\", \"lm.bert.encoder.layer.3.attention.output.dense.bias\", \"lm.bert.encoder.layer.3.attention.output.LayerNorm.weight\", \"lm.bert.encoder.layer.3.attention.output.LayerNorm.bias\", \"lm.bert.encoder.layer.3.intermediate.dense.weight\", \"lm.bert.encoder.layer.3.intermediate.dense.bias\", \"lm.bert.encoder.layer.3.output.dense.weight\", \"lm.bert.encoder.layer.3.output.dense.bias\", \"lm.bert.encoder.layer.3.output.LayerNorm.weight\", \"lm.bert.encoder.layer.3.output.LayerNorm.bias\", \"lm.bert.encoder.layer.4.attention.self.query.weight\", \"lm.bert.encoder.layer.4.attention.self.query.bias\", \"lm.bert.encoder.layer.4.attention.self.key.weight\", \"lm.bert.encoder.layer.4.attention.self.key.bias\", \"lm.bert.encoder.layer.4.attention.self.value.weight\", \"lm.bert.encoder.layer.4.attention.self.value.bias\", \"lm.bert.encoder.layer.4.attention.output.dense.weight\", \"lm.bert.encoder.layer.4.attention.output.dense.bias\", \"lm.bert.encoder.layer.4.attention.output.LayerNorm.weight\", \"lm.bert.encoder.layer.4.attention.output.LayerNorm.bias\", \"lm.bert.encoder.layer.4.intermediate.dense.weight\", \"lm.bert.encoder.layer.4.intermediate.dense.bias\", \"lm.bert.encoder.layer.4.output.dense.weight\", \"lm.bert.encoder.layer.4.output.dense.bias\", \"lm.bert.encoder.layer.4.output.LayerNorm.weight\", \"lm.bert.encoder.layer.4.output.LayerNorm.bias\", \"lm.bert.encoder.layer.5.attention.self.query.weight\", \"lm.bert.encoder.layer.5.attention.self.query.bias\", \"lm.bert.encoder.layer.5.attention.self.key.weight\", \"lm.bert.encoder.layer.5.attention.self.key.bias\", \"lm.bert.encoder.layer.5.attention.self.value.weight\", \"lm.bert.encoder.layer.5.attention.self.value.bias\", \"lm.bert.encoder.layer.5.attention.output.dense.weight\", \"lm.bert.encoder.layer.5.attention.output.dense.bias\", \"lm.bert.encoder.layer.5.attention.output.LayerNorm.weight\", \"lm.bert.encoder.layer.5.attention.output.LayerNorm.bias\", \"lm.bert.encoder.layer.5.intermediate.dense.weight\", \"lm.bert.encoder.layer.5.intermediate.dense.bias\", \"lm.bert.encoder.layer.5.output.dense.weight\", \"lm.bert.encoder.layer.5.output.dense.bias\", \"lm.bert.encoder.layer.5.output.LayerNorm.weight\", \"lm.bert.encoder.layer.5.output.LayerNorm.bias\", \"lm.bert.encoder.layer.6.attention.self.query.weight\", \"lm.bert.encoder.layer.6.attention.self.query.bias\", \"lm.bert.encoder.layer.6.attention.self.key.weight\", \"lm.bert.encoder.layer.6.attention.self.key.bias\", \"lm.bert.encoder.layer.6.attention.self.value.weight\", \"lm.bert.encoder.layer.6.attention.self.value.bias\", \"lm.bert.encoder.layer.6.attention.output.dense.weight\", \"lm.bert.encoder.layer.6.attention.output.dense.bias\", \"lm.bert.encoder.layer.6.attention.output.LayerNorm.weight\", \"lm.bert.encoder.layer.6.attention.output.LayerNorm.bias\", \"lm.bert.encoder.layer.6.intermediate.dense.weight\", \"lm.bert.encoder.layer.6.intermediate.dense.bias\", \"lm.bert.encoder.layer.6.output.dense.weight\", \"lm.bert.encoder.layer.6.output.dense.bias\", \"lm.bert.encoder.layer.6.output.LayerNorm.weight\", \"lm.bert.encoder.layer.6.output.LayerNorm.bias\", \"lm.bert.encoder.layer.7.attention.self.query.weight\", \"lm.bert.encoder.layer.7.attention.self.query.bias\", \"lm.bert.encoder.layer.7.attention.self.key.weight\", \"lm.bert.encoder.layer.7.attention.self.key.bias\", \"lm.bert.encoder.layer.7.attention.self.value.weight\", \"lm.bert.encoder.layer.7.attention.self.value.bias\", \"lm.bert.encoder.layer.7.attention.output.dense.weight\", \"lm.bert.encoder.layer.7.attention.output.dense.bias\", \"lm.bert.encoder.layer.7.attention.output.LayerNorm.weight\", \"lm.bert.encoder.layer.7.attention.output.LayerNorm.bias\", \"lm.bert.encoder.layer.7.intermediate.dense.weight\", \"lm.bert.encoder.layer.7.intermediate.dense.bias\", \"lm.bert.encoder.layer.7.output.dense.weight\", \"lm.bert.encoder.layer.7.output.dense.bias\", \"lm.bert.encoder.layer.7.output.LayerNorm.weight\", \"lm.bert.encoder.layer.7.output.LayerNorm.bias\", \"lm.bert.encoder.layer.8.attention.self.query.weight\", \"lm.bert.encoder.layer.8.attention.self.query.bias\", \"lm.bert.encoder.layer.8.attention.self.key.weight\", \"lm.bert.encoder.layer.8.attention.self.key.bias\", \"lm.bert.encoder.layer.8.attention.self.value.weight\", \"lm.bert.encoder.layer.8.attention.self.value.bias\", \"lm.bert.encoder.layer.8.attention.output.dense.weight\", \"lm.bert.encoder.layer.8.attention.output.dense.bias\", \"lm.bert.encoder.layer.8.attention.output.LayerNorm.weight\", \"lm.bert.encoder.layer.8.attention.output.LayerNorm.bias\", \"lm.bert.encoder.layer.8.intermediate.dense.weight\", \"lm.bert.encoder.layer.8.intermediate.dense.bias\", \"lm.bert.encoder.layer.8.output.dense.weight\", \"lm.bert.encoder.layer.8.output.dense.bias\", \"lm.bert.encoder.layer.8.output.LayerNorm.weight\", \"lm.bert.encoder.layer.8.output.LayerNorm.bias\", \"lm.bert.encoder.layer.9.attention.self.query.weight\", \"lm.bert.encoder.layer.9.attention.self.query.bias\", \"lm.bert.encoder.layer.9.attention.self.key.weight\", \"lm.bert.encoder.layer.9.attention.self.key.bias\", \"lm.bert.encoder.layer.9.attention.self.value.weight\", \"lm.bert.encoder.layer.9.attention.self.value.bias\", \"lm.bert.encoder.layer.9.attention.output.dense.weight\", \"lm.bert.encoder.layer.9.attention.output.dense.bias\", \"lm.bert.encoder.layer.9.attention.output.LayerNorm.weight\", \"lm.bert.encoder.layer.9.attention.output.LayerNorm.bias\", \"lm.bert.encoder.layer.9.intermediate.dense.weight\", \"lm.bert.encoder.layer.9.intermediate.dense.bias\", \"lm.bert.encoder.layer.9.output.dense.weight\", \"lm.bert.encoder.layer.9.output.dense.bias\", \"lm.bert.encoder.layer.9.output.LayerNorm.weight\", \"lm.bert.encoder.layer.9.output.LayerNorm.bias\", \"lm.bert.encoder.layer.10.attention.self.query.weight\", \"lm.bert.encoder.layer.10.attention.self.query.bias\", \"lm.bert.encoder.layer.10.attention.self.key.weight\", \"lm.bert.encoder.layer.10.attention.self.key.bias\", \"lm.bert.encoder.layer.10.attention.self.value.weight\", \"lm.bert.encoder.layer.10.attention.self.value.bias\", \"lm.bert.encoder.layer.10.attention.output.dense.weight\", \"lm.bert.encoder.layer.10.attention.output.dense.bias\", \"lm.bert.encoder.layer.10.attention.output.LayerNorm.weight\", \"lm.bert.encoder.layer.10.attention.output.LayerNorm.bias\", \"lm.bert.encoder.layer.10.intermediate.dense.weight\", \"lm.bert.encoder.layer.10.intermediate.dense.bias\", \"lm.bert.encoder.layer.10.output.dense.weight\", \"lm.bert.encoder.layer.10.output.dense.bias\", \"lm.bert.encoder.layer.10.output.LayerNorm.weight\", \"lm.bert.encoder.layer.10.output.LayerNorm.bias\", \"lm.bert.encoder.layer.11.attention.self.query.weight\", \"lm.bert.encoder.layer.11.attention.self.query.bias\", \"lm.bert.encoder.layer.11.attention.self.key.weight\", \"lm.bert.encoder.layer.11.attention.self.key.bias\", \"lm.bert.encoder.layer.11.attention.self.value.weight\", \"lm.bert.encoder.layer.11.attention.self.value.bias\", \"lm.bert.encoder.layer.11.attention.output.dense.weight\", \"lm.bert.encoder.layer.11.attention.output.dense.bias\", \"lm.bert.encoder.layer.11.attention.output.LayerNorm.weight\", \"lm.bert.encoder.layer.11.attention.output.LayerNorm.bias\", \"lm.bert.encoder.layer.11.intermediate.dense.weight\", \"lm.bert.encoder.layer.11.intermediate.dense.bias\", \"lm.bert.encoder.layer.11.output.dense.weight\", \"lm.bert.encoder.layer.11.output.dense.bias\", \"lm.bert.encoder.layer.11.output.LayerNorm.weight\", \"lm.bert.encoder.layer.11.output.LayerNorm.bias\", \"lm.cls.predictions.bias\", \"lm.cls.predictions.transform.dense.weight\", \"lm.cls.predictions.transform.dense.bias\", \"lm.cls.predictions.transform.LayerNorm.weight\", \"lm.cls.predictions.transform.LayerNorm.bias\", \"lm.cls.predictions.decoder.weight\", \"lm.cls.predictions.decoder.bias\", \"linear.weight\", \"linear.bias\". "
     ]
    }
   ],
   "source": [
    "# Locate the weight file.\n",
    "trained_model_directory = os.path.join('..', 'trained_models', experiment_id)\n",
    "\n",
    "saved_weights_name = ''\n",
    "\n",
    "for fname in os.listdir(trained_model_directory):\n",
    "    if fname.startswith('epoch'):\n",
    "        saved_weights_name = fname\n",
    "        break\n",
    "\n",
    "print(\"Loading\", saved_weights_name)\n",
    "\n",
    "classifier_model.load_state_dict(torch.load(\n",
    "    os.path.join(trained_model_directory, saved_weights_name),\n",
    "    map_location=torch_device))\n",
    "    "
   ]
  },
  {
   "cell_type": "markdown",
   "metadata": {
    "id": "1l1H_XIPhb0y"
   },
   "source": [
    "## Evaluation with in-domain test set\n",
    "\n"
   ]
  },
  {
   "cell_type": "code",
   "execution_count": 14,
   "metadata": {
    "id": "0S80DoYrqApi"
   },
   "outputs": [],
   "source": [
    "def compute_metrics(predictions, labels):\n",
    "    preds = predictions.argmax(-1)\n",
    "\n",
    "    precision, recall, f1, _ = sklearn.metrics.precision_recall_fscore_support(\n",
    "        y_true=labels, y_pred=preds, labels=[0,1,2], average='macro')\n",
    "\n",
    "    acc = sklearn.metrics.accuracy_score(labels, preds)\n",
    "\n",
    "    return {\n",
    "        'accuracy': acc,\n",
    "        'f1': f1,\n",
    "        'precision': precision,\n",
    "        'recall': recall\n",
    "    }"
   ]
  },
  {
   "cell_type": "code",
   "execution_count": 15,
   "metadata": {
    "id": "9NXoBTs5h2eO"
   },
   "outputs": [],
   "source": [
    "test_dataloader = torch.utils.data.DataLoader(\n",
    "    test_set, batch_size=testing_batch_size, pin_memory=use_pin_memory)"
   ]
  },
  {
   "cell_type": "code",
   "execution_count": 16,
   "metadata": {
    "id": "t-rIWariaiOg"
   },
   "outputs": [
    {
     "data": {
      "application/vnd.jupyter.widget-view+json": {
       "model_id": "3bc06f526f7e4f88ae774fcf627d6401",
       "version_major": 2,
       "version_minor": 0
      },
      "text/plain": [
       "HBox(children=(FloatProgress(value=0.0, max=31.0), HTML(value='')))"
      ]
     },
     "metadata": {},
     "output_type": "display_data"
    },
    {
     "name": "stdout",
     "output_type": "stream",
     "text": [
      "\n"
     ]
    },
    {
     "ename": "AttributeError",
     "evalue": "",
     "output_type": "error",
     "traceback": [
      "\u001b[0;31m---------------------------------------------------------------------------\u001b[0m",
      "\u001b[0;31mKeyError\u001b[0m                                  Traceback (most recent call last)",
      "\u001b[0;32m~/miniconda3/lib/python3.8/site-packages/transformers/tokenization_utils_base.py\u001b[0m in \u001b[0;36m__getattr__\u001b[0;34m(self, item)\u001b[0m\n\u001b[1;32m    313\u001b[0m         \u001b[0;32mtry\u001b[0m\u001b[0;34m:\u001b[0m\u001b[0;34m\u001b[0m\u001b[0;34m\u001b[0m\u001b[0m\n\u001b[0;32m--> 314\u001b[0;31m             \u001b[0;32mreturn\u001b[0m \u001b[0mself\u001b[0m\u001b[0;34m.\u001b[0m\u001b[0mdata\u001b[0m\u001b[0;34m[\u001b[0m\u001b[0mitem\u001b[0m\u001b[0;34m]\u001b[0m\u001b[0;34m\u001b[0m\u001b[0;34m\u001b[0m\u001b[0m\n\u001b[0m\u001b[1;32m    315\u001b[0m         \u001b[0;32mexcept\u001b[0m \u001b[0mKeyError\u001b[0m\u001b[0;34m:\u001b[0m\u001b[0;34m\u001b[0m\u001b[0;34m\u001b[0m\u001b[0m\n",
      "\u001b[0;31mKeyError\u001b[0m: 'size'",
      "\nDuring handling of the above exception, another exception occurred:\n",
      "\u001b[0;31mAttributeError\u001b[0m                            Traceback (most recent call last)",
      "\u001b[0;32m/tmp/ipykernel_1356/369991909.py\u001b[0m in \u001b[0;36m<module>\u001b[0;34m\u001b[0m\n\u001b[1;32m     17\u001b[0m         \u001b[0mbatch_test_label\u001b[0m \u001b[0;34m=\u001b[0m \u001b[0mbatch_test\u001b[0m\u001b[0;34m[\u001b[0m\u001b[0;34m\"sentiment\"\u001b[0m\u001b[0;34m]\u001b[0m\u001b[0;34m\u001b[0m\u001b[0;34m\u001b[0m\u001b[0m\n\u001b[1;32m     18\u001b[0m \u001b[0;34m\u001b[0m\u001b[0m\n\u001b[0;32m---> 19\u001b[0;31m         \u001b[0mbatch_test_output\u001b[0m \u001b[0;34m=\u001b[0m \u001b[0mclassifier_model\u001b[0m\u001b[0;34m(\u001b[0m\u001b[0mbatch_test_encoded\u001b[0m\u001b[0;34m)\u001b[0m\u001b[0;34m\u001b[0m\u001b[0;34m\u001b[0m\u001b[0m\n\u001b[0m\u001b[1;32m     20\u001b[0m \u001b[0;34m\u001b[0m\u001b[0m\n\u001b[1;32m     21\u001b[0m         \u001b[0mbatch_test_output\u001b[0m \u001b[0;34m=\u001b[0m \u001b[0mbatch_test_output\u001b[0m\u001b[0;34m.\u001b[0m\u001b[0mto\u001b[0m\u001b[0;34m(\u001b[0m\u001b[0;34m'cpu'\u001b[0m\u001b[0;34m)\u001b[0m\u001b[0;34m\u001b[0m\u001b[0;34m\u001b[0m\u001b[0m\n",
      "\u001b[0;32m~/miniconda3/lib/python3.8/site-packages/torch/nn/modules/module.py\u001b[0m in \u001b[0;36m_call_impl\u001b[0;34m(self, *input, **kwargs)\u001b[0m\n\u001b[1;32m    725\u001b[0m             \u001b[0mresult\u001b[0m \u001b[0;34m=\u001b[0m \u001b[0mself\u001b[0m\u001b[0;34m.\u001b[0m\u001b[0m_slow_forward\u001b[0m\u001b[0;34m(\u001b[0m\u001b[0;34m*\u001b[0m\u001b[0minput\u001b[0m\u001b[0;34m,\u001b[0m \u001b[0;34m**\u001b[0m\u001b[0mkwargs\u001b[0m\u001b[0;34m)\u001b[0m\u001b[0;34m\u001b[0m\u001b[0;34m\u001b[0m\u001b[0m\n\u001b[1;32m    726\u001b[0m         \u001b[0;32melse\u001b[0m\u001b[0;34m:\u001b[0m\u001b[0;34m\u001b[0m\u001b[0;34m\u001b[0m\u001b[0m\n\u001b[0;32m--> 727\u001b[0;31m             \u001b[0mresult\u001b[0m \u001b[0;34m=\u001b[0m \u001b[0mself\u001b[0m\u001b[0;34m.\u001b[0m\u001b[0mforward\u001b[0m\u001b[0;34m(\u001b[0m\u001b[0;34m*\u001b[0m\u001b[0minput\u001b[0m\u001b[0;34m,\u001b[0m \u001b[0;34m**\u001b[0m\u001b[0mkwargs\u001b[0m\u001b[0;34m)\u001b[0m\u001b[0;34m\u001b[0m\u001b[0;34m\u001b[0m\u001b[0m\n\u001b[0m\u001b[1;32m    728\u001b[0m         for hook in itertools.chain(\n\u001b[1;32m    729\u001b[0m                 \u001b[0m_global_forward_hooks\u001b[0m\u001b[0;34m.\u001b[0m\u001b[0mvalues\u001b[0m\u001b[0;34m(\u001b[0m\u001b[0;34m)\u001b[0m\u001b[0;34m,\u001b[0m\u001b[0;34m\u001b[0m\u001b[0;34m\u001b[0m\u001b[0m\n",
      "\u001b[0;32m~/miniconda3/lib/python3.8/site-packages/transformers/models/bert/modeling_bert.py\u001b[0m in \u001b[0;36mforward\u001b[0;34m(self, input_ids, attention_mask, token_type_ids, position_ids, head_mask, inputs_embeds, labels, output_attentions, output_hidden_states, return_dict)\u001b[0m\n\u001b[1;32m   1494\u001b[0m         \u001b[0mreturn_dict\u001b[0m \u001b[0;34m=\u001b[0m \u001b[0mreturn_dict\u001b[0m \u001b[0;32mif\u001b[0m \u001b[0mreturn_dict\u001b[0m \u001b[0;32mis\u001b[0m \u001b[0;32mnot\u001b[0m \u001b[0;32mNone\u001b[0m \u001b[0;32melse\u001b[0m \u001b[0mself\u001b[0m\u001b[0;34m.\u001b[0m\u001b[0mconfig\u001b[0m\u001b[0;34m.\u001b[0m\u001b[0muse_return_dict\u001b[0m\u001b[0;34m\u001b[0m\u001b[0;34m\u001b[0m\u001b[0m\n\u001b[1;32m   1495\u001b[0m \u001b[0;34m\u001b[0m\u001b[0m\n\u001b[0;32m-> 1496\u001b[0;31m         outputs = self.bert(\n\u001b[0m\u001b[1;32m   1497\u001b[0m             \u001b[0minput_ids\u001b[0m\u001b[0;34m,\u001b[0m\u001b[0;34m\u001b[0m\u001b[0;34m\u001b[0m\u001b[0m\n\u001b[1;32m   1498\u001b[0m             \u001b[0mattention_mask\u001b[0m\u001b[0;34m=\u001b[0m\u001b[0mattention_mask\u001b[0m\u001b[0;34m,\u001b[0m\u001b[0;34m\u001b[0m\u001b[0;34m\u001b[0m\u001b[0m\n",
      "\u001b[0;32m~/miniconda3/lib/python3.8/site-packages/torch/nn/modules/module.py\u001b[0m in \u001b[0;36m_call_impl\u001b[0;34m(self, *input, **kwargs)\u001b[0m\n\u001b[1;32m    725\u001b[0m             \u001b[0mresult\u001b[0m \u001b[0;34m=\u001b[0m \u001b[0mself\u001b[0m\u001b[0;34m.\u001b[0m\u001b[0m_slow_forward\u001b[0m\u001b[0;34m(\u001b[0m\u001b[0;34m*\u001b[0m\u001b[0minput\u001b[0m\u001b[0;34m,\u001b[0m \u001b[0;34m**\u001b[0m\u001b[0mkwargs\u001b[0m\u001b[0;34m)\u001b[0m\u001b[0;34m\u001b[0m\u001b[0;34m\u001b[0m\u001b[0m\n\u001b[1;32m    726\u001b[0m         \u001b[0;32melse\u001b[0m\u001b[0;34m:\u001b[0m\u001b[0;34m\u001b[0m\u001b[0;34m\u001b[0m\u001b[0m\n\u001b[0;32m--> 727\u001b[0;31m             \u001b[0mresult\u001b[0m \u001b[0;34m=\u001b[0m \u001b[0mself\u001b[0m\u001b[0;34m.\u001b[0m\u001b[0mforward\u001b[0m\u001b[0;34m(\u001b[0m\u001b[0;34m*\u001b[0m\u001b[0minput\u001b[0m\u001b[0;34m,\u001b[0m \u001b[0;34m**\u001b[0m\u001b[0mkwargs\u001b[0m\u001b[0;34m)\u001b[0m\u001b[0;34m\u001b[0m\u001b[0;34m\u001b[0m\u001b[0m\n\u001b[0m\u001b[1;32m    728\u001b[0m         for hook in itertools.chain(\n\u001b[1;32m    729\u001b[0m                 \u001b[0m_global_forward_hooks\u001b[0m\u001b[0;34m.\u001b[0m\u001b[0mvalues\u001b[0m\u001b[0;34m(\u001b[0m\u001b[0;34m)\u001b[0m\u001b[0;34m,\u001b[0m\u001b[0;34m\u001b[0m\u001b[0;34m\u001b[0m\u001b[0m\n",
      "\u001b[0;32m~/miniconda3/lib/python3.8/site-packages/transformers/models/bert/modeling_bert.py\u001b[0m in \u001b[0;36mforward\u001b[0;34m(self, input_ids, attention_mask, token_type_ids, position_ids, head_mask, inputs_embeds, encoder_hidden_states, encoder_attention_mask, past_key_values, use_cache, output_attentions, output_hidden_states, return_dict)\u001b[0m\n\u001b[1;32m    917\u001b[0m             \u001b[0;32mraise\u001b[0m \u001b[0mValueError\u001b[0m\u001b[0;34m(\u001b[0m\u001b[0;34m\"You cannot specify both input_ids and inputs_embeds at the same time\"\u001b[0m\u001b[0;34m)\u001b[0m\u001b[0;34m\u001b[0m\u001b[0;34m\u001b[0m\u001b[0m\n\u001b[1;32m    918\u001b[0m         \u001b[0;32melif\u001b[0m \u001b[0minput_ids\u001b[0m \u001b[0;32mis\u001b[0m \u001b[0;32mnot\u001b[0m \u001b[0;32mNone\u001b[0m\u001b[0;34m:\u001b[0m\u001b[0;34m\u001b[0m\u001b[0;34m\u001b[0m\u001b[0m\n\u001b[0;32m--> 919\u001b[0;31m             \u001b[0minput_shape\u001b[0m \u001b[0;34m=\u001b[0m \u001b[0minput_ids\u001b[0m\u001b[0;34m.\u001b[0m\u001b[0msize\u001b[0m\u001b[0;34m(\u001b[0m\u001b[0;34m)\u001b[0m\u001b[0;34m\u001b[0m\u001b[0;34m\u001b[0m\u001b[0m\n\u001b[0m\u001b[1;32m    920\u001b[0m             \u001b[0mbatch_size\u001b[0m\u001b[0;34m,\u001b[0m \u001b[0mseq_length\u001b[0m \u001b[0;34m=\u001b[0m \u001b[0minput_shape\u001b[0m\u001b[0;34m\u001b[0m\u001b[0;34m\u001b[0m\u001b[0m\n\u001b[1;32m    921\u001b[0m         \u001b[0;32melif\u001b[0m \u001b[0minputs_embeds\u001b[0m \u001b[0;32mis\u001b[0m \u001b[0;32mnot\u001b[0m \u001b[0;32mNone\u001b[0m\u001b[0;34m:\u001b[0m\u001b[0;34m\u001b[0m\u001b[0;34m\u001b[0m\u001b[0m\n",
      "\u001b[0;32m~/miniconda3/lib/python3.8/site-packages/transformers/tokenization_utils_base.py\u001b[0m in \u001b[0;36m__getattr__\u001b[0;34m(self, item)\u001b[0m\n\u001b[1;32m    314\u001b[0m             \u001b[0;32mreturn\u001b[0m \u001b[0mself\u001b[0m\u001b[0;34m.\u001b[0m\u001b[0mdata\u001b[0m\u001b[0;34m[\u001b[0m\u001b[0mitem\u001b[0m\u001b[0;34m]\u001b[0m\u001b[0;34m\u001b[0m\u001b[0;34m\u001b[0m\u001b[0m\n\u001b[1;32m    315\u001b[0m         \u001b[0;32mexcept\u001b[0m \u001b[0mKeyError\u001b[0m\u001b[0;34m:\u001b[0m\u001b[0;34m\u001b[0m\u001b[0;34m\u001b[0m\u001b[0m\n\u001b[0;32m--> 316\u001b[0;31m             \u001b[0;32mraise\u001b[0m \u001b[0mAttributeError\u001b[0m\u001b[0;34m\u001b[0m\u001b[0;34m\u001b[0m\u001b[0m\n\u001b[0m\u001b[1;32m    317\u001b[0m \u001b[0;34m\u001b[0m\u001b[0m\n\u001b[1;32m    318\u001b[0m     \u001b[0;32mdef\u001b[0m \u001b[0m__getstate__\u001b[0m\u001b[0;34m(\u001b[0m\u001b[0mself\u001b[0m\u001b[0;34m)\u001b[0m\u001b[0;34m:\u001b[0m\u001b[0;34m\u001b[0m\u001b[0;34m\u001b[0m\u001b[0m\n",
      "\u001b[0;31mAttributeError\u001b[0m: "
     ]
    }
   ],
   "source": [
    "# Load the best found head weights\n",
    "with torch.no_grad():\n",
    "    classifier_model.eval()\n",
    "\n",
    "    predictions_test = torch.Tensor()\n",
    "\n",
    "    labels_test = torch.Tensor()\n",
    "\n",
    "    for batch_test in tqdm.notebook.tqdm(test_dataloader):\n",
    "        batch_test_encoded = tokenizer(\n",
    "            batch_test[\"text\"], batch_test[\"aspect\"],\n",
    "            padding='max_length', truncation='only_first', max_length=256,\n",
    "            return_tensors='pt')\n",
    "\n",
    "        batch_test_encoded.to(torch_device)\n",
    "\n",
    "        batch_test_label = batch_test[\"sentiment\"]\n",
    "\n",
    "        batch_test_output = classifier_model(batch_test_encoded)\n",
    "\n",
    "        batch_test_output = batch_test_output.to('cpu')\n",
    "\n",
    "        predictions_test = torch.cat([predictions_test, batch_test_output])\n",
    "        labels_test = torch.cat([labels_test, batch_test_label])\n",
    "\n",
    "    # Compute metrics\n",
    "    test_metrics = compute_metrics(predictions_test, labels_test)\n",
    "\n",
    "    print(test_metrics)\n",
    "    \n",
    "    # Save test_metrics into a file for later processing\n",
    "    # with open(os.path.join(trained_model_directory, 'test_metrics_subtask4.json'), 'w') as test_metrics_json:\n",
    "    #     json.dump(test_metrics, test_metrics_json)"
   ]
  },
  {
   "cell_type": "markdown",
   "metadata": {
    "id": "HjpA_0m1hb08"
   },
   "source": [
    "## Results visualization"
   ]
  },
  {
   "cell_type": "code",
   "execution_count": 117,
   "metadata": {
    "colab": {
     "base_uri": "https://localhost:8080/",
     "height": 442
    },
    "executionInfo": {
     "elapsed": 95048,
     "status": "ok",
     "timestamp": 1620419019476,
     "user": {
      "displayName": "Ronald Seoh",
      "photoUrl": "",
      "userId": "10284188050297676522"
     },
     "user_tz": 240
    },
    "id": "w9G9AUeQhb09",
    "outputId": "06eb5449-2881-43c4-98b5-ad2cee1f476f"
   },
   "outputs": [
    {
     "data": {
      "image/png": "[encoded data removed]",
      "text/plain": [
       "<Figure size 720x504 with 2 Axes>"
      ]
     },
     "metadata": {
      "needs_background": "light"
     },
     "output_type": "display_data"
    }
   ],
   "source": [
    "# Calculate metrics and confusion matrix based upon predictions and true labels\n",
    "cm = sklearn.metrics.confusion_matrix(labels_test.cpu().detach().numpy(), predictions_test.detach().numpy().argmax(-1))\n",
    "\n",
    "df_cm = pd.DataFrame(\n",
    "    cm,\n",
    "    index=[i for i in [\"positive\", \"negative\", \"neutral\"]],\n",
    "    columns=[i for i in [\"positive\", \"negative\", \"neutral\"]])\n",
    "\n",
    "plt.figure(figsize=(10, 7))\n",
    "\n",
    "ax = sn.heatmap(df_cm, annot=True)\n",
    "\n",
    "ax.set(xlabel='Predicted Label', ylabel='True Label')\n",
    "plt.show()"
   ]
  },
  {
   "cell_type": "code",
   "execution_count": null,
   "metadata": {
    "id": "4Wo_Yk0LY37d"
   },
   "outputs": [],
   "source": []
  }
 ],
 "metadata": {
  "accelerator": "GPU",
  "celltoolbar": "Tags",
  "colab": {
   "collapsed_sections": [],
   "name": "bert_no_prompt_pooled_lr_subtask4.ipynb",
   "provenance": [],
   "toc_visible": true
  },
  "kernelspec": {
   "display_name": "Python 3 (ipykernel)",
   "language": "python",
   "name": "python3"
  },
  "language_info": {
   "codemirror_mode": {
    "name": "ipython",
    "version": 3
   },
   "file_extension": ".py",
   "mimetype": "text/x-python",
   "name": "python",
   "nbconvert_exporter": "python",
   "pygments_lexer": "ipython3",
   "version": "3.8.10"
  }
 },
 "nbformat": 4,
 "nbformat_minor": 4
}
